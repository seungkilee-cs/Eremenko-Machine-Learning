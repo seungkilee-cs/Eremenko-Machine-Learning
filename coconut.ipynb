{
 "cells": [
  {
   "cell_type": "code",
   "execution_count": 1,
   "id": "announced-coffee",
   "metadata": {},
   "outputs": [
    {
     "name": "stdout",
     "output_type": "stream",
     "text": [
      "hello world\n"
     ]
    }
   ],
   "source": [
    "\"hello world\" |> print"
   ]
  },
  {
   "cell_type": "code",
   "execution_count": 8,
   "id": "corporate-broadcasting",
   "metadata": {},
   "outputs": [],
   "source": [
    "square = (-> _**2)"
   ]
  },
  {
   "cell_type": "code",
   "execution_count": 9,
   "id": "starting-letters",
   "metadata": {},
   "outputs": [
    {
     "data": {
      "text/plain": [
       "4"
      ]
     },
     "execution_count": 9,
     "metadata": {},
     "output_type": "execute_result"
    }
   ],
   "source": [
    "2 |> square"
   ]
  },
  {
   "cell_type": "code",
   "execution_count": null,
   "id": "third-discipline",
   "metadata": {},
   "outputs": [],
   "source": []
  }
 ],
 "metadata": {
  "kernelspec": {
   "display_name": "Coconut",
   "language": "coconut",
   "name": "coconut"
  },
  "language_info": {
   "codemirror_mode": {
    "name": "python",
    "version": 3
   },
   "file_extension": ".coco",
   "mimetype": "text/x-python3",
   "name": "coconut",
   "pygments_lexer": "coconut",
   "version": "1.5.0"
  }
 },
 "nbformat": 4,
 "nbformat_minor": 5
}
