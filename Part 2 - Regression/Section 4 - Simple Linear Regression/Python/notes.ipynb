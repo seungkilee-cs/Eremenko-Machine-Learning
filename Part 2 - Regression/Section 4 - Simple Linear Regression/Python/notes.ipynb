{
 "cells": [
  {
   "cell_type": "markdown",
   "id": "dressed-hungarian",
   "metadata": {},
   "source": [
    "# Simple Linear Regression"
   ]
  },
  {
   "cell_type": "markdown",
   "id": "raised-marine",
   "metadata": {},
   "source": [
    "Linear Regression provides a best fit line for the cohort of data provided. The actual value is represented as $y_{i}$ and the value predicted by the model is represented as $y_{i}^{\\wedge}$\n",
    "\n",
    "Linear regression draws multiple fit lines based on the input data, and every time it records the distance between actual and predicted, then square it. We know that whereever this difference is the smallest, it is the best fit line.\n",
    "\n",
    "$\\Sigma{(y - y^{\\wedge})^2}$"
   ]
  },
  {
   "cell_type": "code",
   "execution_count": null,
   "id": "surprised-lucas",
   "metadata": {},
   "outputs": [],
   "source": []
  }
 ],
 "metadata": {
  "kernelspec": {
   "display_name": "Python 3",
   "language": "python",
   "name": "python3"
  },
  "language_info": {
   "codemirror_mode": {
    "name": "ipython",
    "version": 3
   },
   "file_extension": ".py",
   "mimetype": "text/x-python",
   "name": "python",
   "nbconvert_exporter": "python",
   "pygments_lexer": "ipython3",
   "version": "3.9.0"
  }
 },
 "nbformat": 4,
 "nbformat_minor": 5
}
